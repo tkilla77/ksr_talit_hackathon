{
 "cells": [
  {
   "attachments": {},
   "cell_type": "markdown",
   "metadata": {},
   "source": [
    "# Hackathon Example\n",
    "\n",
    "Das Ziel des Hackathons ist, Energiedaten zu kombinieren und interessante Resultate zu visualisieren. Dazu verwenden wir am besten Jupyter Notebooks wie dieses hier.\n",
    "\n",
    "In einem Notebook können wir Markdown-Code mit Python kombinieren, die einzelnen Code-Blöcke immer wieder anpassen, und die Resultate direkt modifizieren.\n",
    "\n",
    "## Tools\n",
    "\n",
    "### Python\n",
    "Selbstredend.\n",
    "\n",
    "### Jupyter Notebook Extension\n",
    "\n",
    "Extension von Visual Studio Code. [Hier installieren](https://marketplace.visualstudio.com/items?itemName=ms-toolsai.jupyter).\n",
    "\n",
    "### matplotlib (pyplot)\n",
    "Eine Python-Bibliothek (also eine Sammlung von Funktionen), um mit Python schöne Grafiken zu erstellen. Generell lassen sich gängige Bibliotheken vom Terminal mit `pip` installieren\n",
    "\n",
    "```bash\n",
    "python -m pip install matplotlib\n",
    "```\n",
    "Wir können alternativ aber auch einfach sicherstellen, dass der _Kernel_, der den Python-Code dieses Notebooks ausführt, die Bibliotheke installiert hat:"
   ]
  },
  {
   "cell_type": "code",
   "execution_count": 2,
   "metadata": {},
   "outputs": [
    {
     "name": "stdout",
     "output_type": "stream",
     "text": [
      "Requirement already satisfied: matplotlib in /Library/Frameworks/Python.framework/Versions/3.10/lib/python3.10/site-packages (3.5.1)\n",
      "Requirement already satisfied: packaging>=20.0 in /Library/Frameworks/Python.framework/Versions/3.10/lib/python3.10/site-packages (from matplotlib) (21.3)\n",
      "Requirement already satisfied: pillow>=6.2.0 in /Library/Frameworks/Python.framework/Versions/3.10/lib/python3.10/site-packages (from matplotlib) (9.0.1)\n",
      "Requirement already satisfied: pyparsing>=2.2.1 in /Library/Frameworks/Python.framework/Versions/3.10/lib/python3.10/site-packages (from matplotlib) (3.0.7)\n",
      "Requirement already satisfied: numpy>=1.17 in /Library/Frameworks/Python.framework/Versions/3.10/lib/python3.10/site-packages (from matplotlib) (1.22.3)\n",
      "Requirement already satisfied: python-dateutil>=2.7 in /Library/Frameworks/Python.framework/Versions/3.10/lib/python3.10/site-packages (from matplotlib) (2.8.2)\n",
      "Requirement already satisfied: kiwisolver>=1.0.1 in /Library/Frameworks/Python.framework/Versions/3.10/lib/python3.10/site-packages (from matplotlib) (1.4.0)\n",
      "Requirement already satisfied: cycler>=0.10 in /Library/Frameworks/Python.framework/Versions/3.10/lib/python3.10/site-packages (from matplotlib) (0.11.0)\n",
      "Requirement already satisfied: fonttools>=4.22.0 in /Library/Frameworks/Python.framework/Versions/3.10/lib/python3.10/site-packages (from matplotlib) (4.30.0)\n",
      "Requirement already satisfied: six>=1.5 in /Library/Frameworks/Python.framework/Versions/3.10/lib/python3.10/site-packages (from python-dateutil>=2.7->matplotlib) (1.16.0)\n",
      "\u001b[33mWARNING: You are using pip version 22.0.4; however, version 23.0.1 is available.\n",
      "You should consider upgrading via the '/usr/local/bin/python3 -m pip install --upgrade pip' command.\u001b[0m\u001b[33m\n",
      "\u001b[0m"
     ]
    }
   ],
   "source": [
    "import sys\n",
    "!{sys.executable} -m pip install matplotlib"
   ]
  },
  {
   "attachments": {},
   "cell_type": "markdown",
   "metadata": {},
   "source": [
    "## Comma-Separated Values\n",
    "\n",
    "Wir wollen die öffentlich verfügbaren Datensätze verarbeiten. Die tabellarischen Daten liegen oft im CSV-Format (Comma-Separated Values) vor. Dabei repräsentiert jede Zeile ein Eintrag, wobei die Werte der einzelnen Spalten mit Kommas (manchmal auch Semikolons) abgetrennt sind. Enthält ein Wert ein Komma, kann der Wert in Anführungszeichen eingeschlossen sein. Die erste Zeile enthält oft die Spaltennamen:\n",
    "\n",
    "```csv\n",
    "Postleitzahl,Ort,Einwohner\n",
    "8590,Romanshorn,11296\n",
    "8580,Amriswil,14157\n",
    "9320,Arbon,14872\n",
    "```\n",
    "\n",
    "Glücklicherweise gibt es in Python eine praktische [Bibliothek, um CSV-Daten](https://docs.python.org/3/library/csv.html) zu lesen.\n",
    "\n",
    "Dazu verwenden wir `urllib.request` um die Daten direkt vom Internet zu laden, und `codecs` um die Binärdaten in Text umzuwandeln.\n",
    "\n",
    "Zum Beispiel möchten wir mit den Daten zur Energieproduktion der Thurgauer Gemeinden arbeiten. Das Dataset findet sich unter https://data.tg.ch/explore/dataset/div-energie-10/table/, den Link zum CSV-Download findet sich unter _Exporte_. Der Download verwendet Semikolons.\n",
    "\n",
    "Die Spaltennamen entnehmen wir ebenfalls der Webseite, um die Gemeinde und deren Energieproduktion zu erhalten."
   ]
  },
  {
   "cell_type": "code",
   "execution_count": 14,
   "metadata": {},
   "outputs": [
    {
     "name": "stdout",
     "output_type": "stream",
     "text": [
      "Amlikon-Bissegg 8.26\n",
      "Amriswil 5.061\n",
      "Berg (TG) 3.21\n",
      "Birwinken 0.971\n",
      "Bischofszell 6.251\n",
      "Braunau 0.844\n",
      "Egnach 4.081\n",
      "Erlen 2.51\n",
      "Fischingen 2.532\n",
      "Gottlieben 0.035\n"
     ]
    }
   ],
   "source": [
    "import urllib.request\n",
    "import codecs\n",
    "import matplotlib as pyplot\n",
    "import csv\n",
    "import itertools\n",
    "\n",
    "source = 'https://data.tg.ch/api/explore/v2.1/catalog/datasets/div-energie-10/exports/csv'\n",
    "\n",
    "# Quelle übers Internet laden.\n",
    "with urllib.request.urlopen(source) as energy_csv:\n",
    "    # Binärdaten in Text konvertieren (Annahme: UTF-8 Encoding) und mit dem CSV-Reader einlesen\n",
    "    # Achtung: wir verwenden Semikolons statt Kommas als Trennzeichen.\n",
    "    reader = csv.DictReader(codecs.iterdecode(energy_csv, 'utf-8'), delimiter=';')\n",
    "    # Für die ersten 10 Zeilen im Dataset geben wir den Namen und die totale Energieproduktion aus.\n",
    "    for row in itertools.islice(reader, 0, 10):\n",
    "        print(row['gemeinde_name'], row['total'])\n",
    "        \n"
   ]
  }
 ],
 "metadata": {
  "kernelspec": {
   "display_name": "Python 3",
   "language": "python",
   "name": "python3"
  },
  "language_info": {
   "codemirror_mode": {
    "name": "ipython",
    "version": 3
   },
   "file_extension": ".py",
   "mimetype": "text/x-python",
   "name": "python",
   "nbconvert_exporter": "python",
   "pygments_lexer": "ipython3",
   "version": "3.10.2"
  },
  "orig_nbformat": 4
 },
 "nbformat": 4,
 "nbformat_minor": 2
}
