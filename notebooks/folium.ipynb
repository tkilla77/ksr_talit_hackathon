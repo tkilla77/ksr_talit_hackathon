{
 "cells": [
  {
   "cell_type": "code",
   "execution_count": null,
   "metadata": {},
   "outputs": [],
   "source": [
    "import folium\n",
    "map = folium.Map(location=[100, 0], zoom_start=1.5)\n",
    "chloropleth = folium.Choropleth(geo_data=joined,data_to_plot=joined,\n",
    "             columns=['bfs_nr_gemeinde', 'total'],\n",
    "             key_on='bfs_nr_gemeinde',\n",
    "             fill_color='YlGnBu', fill_opacity=0.7, line_opacity=0.2,\n",
    "             legend_name=\"Foo\")\n",
    "chloropleth.add_to(map)\n",
    "\n",
    "# Create Folium plot\n",
    "map.save('plot_data.html')\n",
    "# Import the Folium interactive html file\n",
    "from IPython.display import IFrame\n",
    "\n",
    "IFrame('plot_data.html', width=700, height=450)\n"
   ]
  }
 ],
 "metadata": {
  "language_info": {
   "name": "python"
  },
  "orig_nbformat": 4
 },
 "nbformat": 4,
 "nbformat_minor": 2
}
