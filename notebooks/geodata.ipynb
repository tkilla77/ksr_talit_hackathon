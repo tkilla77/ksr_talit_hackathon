{
 "cells": [
  {
   "cell_type": "code",
   "execution_count": null,
   "metadata": {},
   "outputs": [],
   "source": [
    "import urllib.request\n",
    "\n",
    "# Cache Swiss municipality data in SHP format\n",
    "municipalities_url = 'https://data.geo.admin.ch/ch.swisstopo.swissboundaries3d/swissboundaries3d_2023-01/swissboundaries3d_2023-01_2056_5728.shp.zip'\n",
    "urllib.request.urlretrieve(municipalities_url, \"../data/swissboundaries.zip\")\n"
   ]
  },
  {
   "cell_type": "code",
   "execution_count": 11,
   "metadata": {},
   "outputs": [
    {
     "data": {
      "text/plain": [
       "0       MultiPolygon\n",
       "1       MultiPolygon\n",
       "2       MultiPolygon\n",
       "3       MultiPolygon\n",
       "4       MultiPolygon\n",
       "            ...     \n",
       "2321    MultiPolygon\n",
       "2322    MultiPolygon\n",
       "2323    MultiPolygon\n",
       "2324    MultiPolygon\n",
       "2325    MultiPolygon\n",
       "Length: 2326, dtype: object"
      ]
     },
     "execution_count": 11,
     "metadata": {},
     "output_type": "execute_result"
    }
   ],
   "source": [
    "import geopandas\n",
    "municipalities = geopandas.read_file(\"../data/towns.geojson\")\n",
    "municipalities.type\n"
   ]
  },
  {
   "cell_type": "code",
   "execution_count": 10,
   "metadata": {},
   "outputs": [
    {
     "data": {
      "text/html": [
       "<div>\n",
       "<style scoped>\n",
       "    .dataframe tbody tr th:only-of-type {\n",
       "        vertical-align: middle;\n",
       "    }\n",
       "\n",
       "    .dataframe tbody tr th {\n",
       "        vertical-align: top;\n",
       "    }\n",
       "\n",
       "    .dataframe thead th {\n",
       "        text-align: right;\n",
       "    }\n",
       "</style>\n",
       "<table border=\"1\" class=\"dataframe\">\n",
       "  <thead>\n",
       "    <tr style=\"text-align: right;\">\n",
       "      <th></th>\n",
       "      <th>gml_id</th>\n",
       "      <th>nationalCode</th>\n",
       "      <th>localId</th>\n",
       "      <th>namespace</th>\n",
       "      <th>versionId</th>\n",
       "      <th>LocalisedCharacterString</th>\n",
       "      <th>Country</th>\n",
       "      <th>language</th>\n",
       "      <th>nativeness</th>\n",
       "      <th>sourceOfName</th>\n",
       "      <th>pronunciation</th>\n",
       "      <th>text</th>\n",
       "      <th>script</th>\n",
       "      <th>residenceOfAuthority</th>\n",
       "      <th>beginLifespanVersion</th>\n",
       "      <th>boundary</th>\n",
       "      <th>geometry</th>\n",
       "    </tr>\n",
       "  </thead>\n",
       "  <tbody>\n",
       "    <tr>\n",
       "      <th>2156</th>\n",
       "      <td>AdministrativeUnit_Gemeinde_4881</td>\n",
       "      <td>CH</td>\n",
       "      <td>AdministrativeUnit_Gemeinde_4881</td>\n",
       "      <td>https://www.swisstopo.ch/inspire/au/4.0/swissb...</td>\n",
       "      <td>1_4</td>\n",
       "      <td>Gemeinde</td>\n",
       "      <td>CH</td>\n",
       "      <td>NaN</td>\n",
       "      <td>NaN</td>\n",
       "      <td>NaN</td>\n",
       "      <td>NaN</td>\n",
       "      <td>Amlikon-Bissegg</td>\n",
       "      <td>NaN</td>\n",
       "      <td>NaN</td>\n",
       "      <td>2008-11-24 00:00:00+00:00</td>\n",
       "      <td>NaN</td>\n",
       "      <td>MULTIPOLYGON (((1002069.107 6034114.612, 10021...</td>\n",
       "    </tr>\n",
       "  </tbody>\n",
       "</table>\n",
       "</div>"
      ],
      "text/plain": [
       "                                gml_id nationalCode  \\\n",
       "2156  AdministrativeUnit_Gemeinde_4881           CH   \n",
       "\n",
       "                               localId  \\\n",
       "2156  AdministrativeUnit_Gemeinde_4881   \n",
       "\n",
       "                                              namespace versionId  \\\n",
       "2156  https://www.swisstopo.ch/inspire/au/4.0/swissb...       1_4   \n",
       "\n",
       "     LocalisedCharacterString Country  language  nativeness  sourceOfName  \\\n",
       "2156                 Gemeinde      CH       NaN         NaN           NaN   \n",
       "\n",
       "      pronunciation             text  script  residenceOfAuthority  \\\n",
       "2156            NaN  Amlikon-Bissegg     NaN                   NaN   \n",
       "\n",
       "          beginLifespanVersion  boundary  \\\n",
       "2156 2008-11-24 00:00:00+00:00       NaN   \n",
       "\n",
       "                                               geometry  \n",
       "2156  MULTIPOLYGON (((1002069.107 6034114.612, 10021...  "
      ]
     },
     "execution_count": 10,
     "metadata": {},
     "output_type": "execute_result"
    }
   ],
   "source": [
    "\n",
    "one = municipalities[municipalities['gml_id'] == \"AdministrativeUnit_Gemeinde_4881\"]\n",
    "one.head()"
   ]
  },
  {
   "cell_type": "code",
   "execution_count": null,
   "metadata": {},
   "outputs": [],
   "source": [
    "import plotly.express as px\n",
    "d = {'ids': ['1','2'], \n",
    "     'unemployment': [0.0, 12.0]\n",
    "    }\n",
    "\n",
    "fig = px.choropleth_mapbox(d, geojson=shapes, \n",
    "                           locations='ids', \n",
    "                           color='unemployment',\n",
    "                           mapbox_style=\"carto-positron\",\n",
    "                           zoom=6.3, \n",
    "                           center = {\"lat\": 46.8, \"lon\": 8.5},\n",
    "                           opacity=0.5,\n",
    "                          )\n",
    "fig.show()"
   ]
  }
 ],
 "metadata": {
  "kernelspec": {
   "display_name": "Python 3",
   "language": "python",
   "name": "python3"
  },
  "language_info": {
   "codemirror_mode": {
    "name": "ipython",
    "version": 3
   },
   "file_extension": ".py",
   "mimetype": "text/x-python",
   "name": "python",
   "nbconvert_exporter": "python",
   "pygments_lexer": "ipython3",
   "version": "3.10.2"
  },
  "orig_nbformat": 4
 },
 "nbformat": 4,
 "nbformat_minor": 2
}
