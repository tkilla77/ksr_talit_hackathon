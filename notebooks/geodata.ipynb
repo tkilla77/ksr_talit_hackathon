{
 "cells": [
  {
   "attachments": {},
   "cell_type": "markdown",
   "metadata": {},
   "source": [
    "# Geodata Hacks"
   ]
  },
  {
   "attachments": {},
   "cell_type": "markdown",
   "metadata": {},
   "source": [
    "## Massage Swisstopo Boundary Data\n",
    "\n",
    "`data/towns.geojson` contains the polygons for Swiss admin entities such as `Gemeinde`, `Bezirk`, `Kanton` etc, but we need to massage the dataset a bit to be compatible with the TG datasets."
   ]
  },
  {
   "attachments": {},
   "cell_type": "markdown",
   "metadata": {},
   "source": [
    "### Steps 1: Import the data and have a look"
   ]
  },
  {
   "cell_type": "code",
   "execution_count": null,
   "metadata": {},
   "outputs": [],
   "source": [
    "import geopandas\n",
    "municipalities = geopandas.read_file(\"../data/towns.geojson\")\n",
    "municipalities\n"
   ]
  },
  {
   "attachments": {},
   "cell_type": "markdown",
   "metadata": {},
   "source": [
    "Ok, so we've read the swisstopo database, but there are many fields we don't want. Let's clean up:"
   ]
  },
  {
   "cell_type": "code",
   "execution_count": 11,
   "metadata": {},
   "outputs": [
    {
     "name": "stdout",
     "output_type": "stream",
     "text": [
      "      bfs_nr_gemeinde nationalCode LocalisedCharacterString           text  \\\n",
      "577               NaN           CH                     Land        Schweiz   \n",
      "648               NaN           LI                     Land  Liechtenstein   \n",
      "1706              NaN           IT                     Land         Italia   \n",
      "2085              NaN           DE                     Land    Deutschland   \n",
      "\n",
      "                                               geometry  \n",
      "577   MULTIPOLYGON (((708720.565 5845960.697, 707286...  \n",
      "648   MULTIPOLYGON (((1066328.311 5973986.047, 10663...  \n",
      "1706  MULTIPOLYGON (((998369.170 5774248.479, 998372...  \n",
      "2085  MULTIPOLYGON (((968716.436 6055745.395, 968701...  \n"
     ]
    },
    {
     "data": {
      "text/html": [
       "<div>\n",
       "<style scoped>\n",
       "    .dataframe tbody tr th:only-of-type {\n",
       "        vertical-align: middle;\n",
       "    }\n",
       "\n",
       "    .dataframe tbody tr th {\n",
       "        vertical-align: top;\n",
       "    }\n",
       "\n",
       "    .dataframe thead th {\n",
       "        text-align: right;\n",
       "    }\n",
       "</style>\n",
       "<table border=\"1\" class=\"dataframe\">\n",
       "  <thead>\n",
       "    <tr style=\"text-align: right;\">\n",
       "      <th></th>\n",
       "      <th>bfs_nr_gemeinde</th>\n",
       "      <th>country</th>\n",
       "      <th>type</th>\n",
       "      <th>name</th>\n",
       "      <th>geometry</th>\n",
       "    </tr>\n",
       "  </thead>\n",
       "  <tbody>\n",
       "    <tr>\n",
       "      <th>0</th>\n",
       "      <td>3762.0</td>\n",
       "      <td>CH</td>\n",
       "      <td>Gemeinde</td>\n",
       "      <td>Scuol</td>\n",
       "      <td>MULTIPOLYGON (((1139077.532 5921141.517, 11400...</td>\n",
       "    </tr>\n",
       "    <tr>\n",
       "      <th>1</th>\n",
       "      <td>3575.0</td>\n",
       "      <td>CH</td>\n",
       "      <td>Gemeinde</td>\n",
       "      <td>Laax</td>\n",
       "      <td>MULTIPOLYGON (((1025590.950 5924456.089, 10256...</td>\n",
       "    </tr>\n",
       "    <tr>\n",
       "      <th>2</th>\n",
       "      <td>5529.0</td>\n",
       "      <td>CH</td>\n",
       "      <td>Gemeinde</td>\n",
       "      <td>Oulens-sous-Echallens</td>\n",
       "      <td>MULTIPOLYGON (((732842.653 5882076.703, 732766...</td>\n",
       "    </tr>\n",
       "    <tr>\n",
       "      <th>3</th>\n",
       "      <td>3316.0</td>\n",
       "      <td>CH</td>\n",
       "      <td>Gemeinde</td>\n",
       "      <td>Weesen</td>\n",
       "      <td>MULTIPOLYGON (((1009859.085 5963319.102, 10098...</td>\n",
       "    </tr>\n",
       "    <tr>\n",
       "      <th>4</th>\n",
       "      <td>906.0</td>\n",
       "      <td>CH</td>\n",
       "      <td>Gemeinde</td>\n",
       "      <td>Schangnau</td>\n",
       "      <td>MULTIPOLYGON (((885081.295 5909434.189, 885096...</td>\n",
       "    </tr>\n",
       "    <tr>\n",
       "      <th>...</th>\n",
       "      <td>...</td>\n",
       "      <td>...</td>\n",
       "      <td>...</td>\n",
       "      <td>...</td>\n",
       "      <td>...</td>\n",
       "    </tr>\n",
       "    <tr>\n",
       "      <th>2321</th>\n",
       "      <td>2305.0</td>\n",
       "      <td>CH</td>\n",
       "      <td>Bezirk</td>\n",
       "      <td>Hérens</td>\n",
       "      <td>MULTIPOLYGON (((820225.037 5808928.463, 820415...</td>\n",
       "    </tr>\n",
       "    <tr>\n",
       "      <th>2322</th>\n",
       "      <td>4181.0</td>\n",
       "      <td>CH</td>\n",
       "      <td>Gemeinde</td>\n",
       "      <td>Wittnau</td>\n",
       "      <td>MULTIPOLYGON (((889975.343 6021115.485, 889971...</td>\n",
       "    </tr>\n",
       "    <tr>\n",
       "      <th>2323</th>\n",
       "      <td>5761.0</td>\n",
       "      <td>CH</td>\n",
       "      <td>Gemeinde</td>\n",
       "      <td>Romainmôtier-Envy</td>\n",
       "      <td>MULTIPOLYGON (((721847.754 5888985.938, 721852...</td>\n",
       "    </tr>\n",
       "    <tr>\n",
       "      <th>2324</th>\n",
       "      <td>442.0</td>\n",
       "      <td>CH</td>\n",
       "      <td>Gemeinde</td>\n",
       "      <td>Romont (BE)</td>\n",
       "      <td>MULTIPOLYGON (((814775.095 5977288.045, 814849...</td>\n",
       "    </tr>\n",
       "    <tr>\n",
       "      <th>2325</th>\n",
       "      <td>2788.0</td>\n",
       "      <td>CH</td>\n",
       "      <td>Gemeinde</td>\n",
       "      <td>Liesberg</td>\n",
       "      <td>MULTIPOLYGON (((827919.732 6004468.532, 827840...</td>\n",
       "    </tr>\n",
       "  </tbody>\n",
       "</table>\n",
       "<p>2322 rows × 5 columns</p>\n",
       "</div>"
      ],
      "text/plain": [
       "      bfs_nr_gemeinde country      type                   name  \\\n",
       "0              3762.0      CH  Gemeinde                  Scuol   \n",
       "1              3575.0      CH  Gemeinde                   Laax   \n",
       "2              5529.0      CH  Gemeinde  Oulens-sous-Echallens   \n",
       "3              3316.0      CH  Gemeinde                 Weesen   \n",
       "4               906.0      CH  Gemeinde              Schangnau   \n",
       "...               ...     ...       ...                    ...   \n",
       "2321           2305.0      CH    Bezirk                 Hérens   \n",
       "2322           4181.0      CH  Gemeinde                Wittnau   \n",
       "2323           5761.0      CH  Gemeinde      Romainmôtier-Envy   \n",
       "2324            442.0      CH  Gemeinde            Romont (BE)   \n",
       "2325           2788.0      CH  Gemeinde               Liesberg   \n",
       "\n",
       "                                               geometry  \n",
       "0     MULTIPOLYGON (((1139077.532 5921141.517, 11400...  \n",
       "1     MULTIPOLYGON (((1025590.950 5924456.089, 10256...  \n",
       "2     MULTIPOLYGON (((732842.653 5882076.703, 732766...  \n",
       "3     MULTIPOLYGON (((1009859.085 5963319.102, 10098...  \n",
       "4     MULTIPOLYGON (((885081.295 5909434.189, 885096...  \n",
       "...                                                 ...  \n",
       "2321  MULTIPOLYGON (((820225.037 5808928.463, 820415...  \n",
       "2322  MULTIPOLYGON (((889975.343 6021115.485, 889971...  \n",
       "2323  MULTIPOLYGON (((721847.754 5888985.938, 721852...  \n",
       "2324  MULTIPOLYGON (((814775.095 5977288.045, 814849...  \n",
       "2325  MULTIPOLYGON (((827919.732 6004468.532, 827840...  \n",
       "\n",
       "[2322 rows x 5 columns]"
      ]
     },
     "execution_count": 11,
     "metadata": {},
     "output_type": "execute_result"
    }
   ],
   "source": [
    "import pandas as pd\n",
    "\n",
    "# Fix up municipalities by parsing the bfs_nr from the gml_id and converting it\n",
    "# to int64.\n",
    "\n",
    "# 1: create a series where we extract the integer number from the 'AdministrativeUnit_XY_1234' \n",
    "# string in gml_id, where 'XY' is one of 'Gemeinde', 'Bezirk', 'Kanton'.\n",
    "bfs_nrs = municipalities['gml_id'].str.extract(r\"(\\d+)\")\n",
    "# Add the series to the dataset after converting it to numeric.\n",
    "municipalities['bfs_nr_gemeinde'] = pd.to_numeric(bfs_nrs[0])\n",
    "\n",
    "# Let's only retain what we need: BFS nr, geometry, type, country\n",
    "municipalities = municipalities[['bfs_nr_gemeinde', 'nationalCode', 'LocalisedCharacterString', 'text', 'geometry']]\n",
    "\n",
    "# There are four rows without BFS number\n",
    "missing_number = municipalities[municipalities['bfs_nr_gemeinde'].isna()]\n",
    "print(missing_number)\n",
    "# Ah, the country-level entries miss the number - let's drop these:\n",
    "municipalities = municipalities.dropna(subset='bfs_nr_gemeinde')\n",
    "\n",
    "# Now we can cast the BFS nr to int64 to make it compatible with the TG energy dataset.\n",
    "municipalities['bfs_nr_gemeinde'].astype('int64')\n",
    "\n",
    "# Finally, rename the columns to be more descriptive\n",
    "municipalities = municipalities.rename(columns={'nationalCode' : 'country', 'LocalisedCharacterString': 'type', 'text' : 'name'})\n",
    "\n",
    "municipalities\n"
   ]
  },
  {
   "attachments": {},
   "cell_type": "markdown",
   "metadata": {},
   "source": [
    "### Save\n",
    "Re-export the reduced dataset"
   ]
  },
  {
   "cell_type": "code",
   "execution_count": 19,
   "metadata": {},
   "outputs": [],
   "source": [
    "municipalities.to_file('../data/towns_fixed.geojson', driver='GeoJSON')\n"
   ]
  }
 ],
 "metadata": {
  "kernelspec": {
   "display_name": "Python 3",
   "language": "python",
   "name": "python3"
  },
  "language_info": {
   "codemirror_mode": {
    "name": "ipython",
    "version": 3
   },
   "file_extension": ".py",
   "mimetype": "text/x-python",
   "name": "python",
   "nbconvert_exporter": "python",
   "pygments_lexer": "ipython3",
   "version": "3.10.2"
  },
  "orig_nbformat": 4
 },
 "nbformat": 4,
 "nbformat_minor": 2
}
